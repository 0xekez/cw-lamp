{
 "cells": [
  {
   "cell_type": "code",
   "execution_count": 96,
   "id": "7cec525f",
   "metadata": {},
   "outputs": [],
   "source": [
    "preferences = [1, 10, 8, 3]\n",
    "weights = [4, 2, 2, 1]"
   ]
  },
  {
   "cell_type": "code",
   "execution_count": 97,
   "id": "d468baff",
   "metadata": {},
   "outputs": [],
   "source": [
    "def mma():\n",
    "    average = None\n",
    "    total = 0\n",
    "    # <https://fanf2.user.srcf.net/hermes/doc/antiforgery/stats.pdf>\n",
    "    def add(value, weight):\n",
    "        nonlocal average\n",
    "        nonlocal total\n",
    "        if average == None:\n",
    "            average = value\n",
    "            total = weight\n",
    "        else:\n",
    "            total += weight\n",
    "            diff = weight * (value - average) / total\n",
    "            average = average + diff\n",
    "        return average\n",
    "    def remove(value, weight):\n",
    "        nonlocal average\n",
    "        nonlocal total\n",
    "        if average == None:\n",
    "            raise Exception(\"can not remove that which has not been added\")\n",
    "        else:\n",
    "            average = total * (average - weight * value / total) / (total - weight)\n",
    "            total -= weight\n",
    "        return average \n",
    "    return (add, remove)"
   ]
  },
  {
   "cell_type": "code",
   "execution_count": 98,
   "id": "197a6ded",
   "metadata": {},
   "outputs": [],
   "source": [
    "(add, remove) = mma()"
   ]
  },
  {
   "cell_type": "code",
   "execution_count": 99,
   "id": "05c71de5",
   "metadata": {},
   "outputs": [
    {
     "data": {
      "text/plain": [
       "[1, 4.0, 5.0, 4.777777777777778]"
      ]
     },
     "execution_count": 99,
     "metadata": {},
     "output_type": "execute_result"
    }
   ],
   "source": [
    "[add(value, weight) for (value, weight) in zip(preferences, weights)]"
   ]
  },
  {
   "cell_type": "code",
   "execution_count": 55,
   "id": "84133a13",
   "metadata": {},
   "outputs": [
    {
     "data": {
      "text/plain": [
       "2.142857142857143"
      ]
     },
     "execution_count": 55,
     "metadata": {},
     "output_type": "execute_result"
    }
   ],
   "source": [
    "remove(5, 1)"
   ]
  },
  {
   "cell_type": "code",
   "execution_count": 56,
   "id": "194ab926",
   "metadata": {},
   "outputs": [
    {
     "data": {
      "text/plain": [
       "1.8333333333333333"
      ]
     },
     "execution_count": 56,
     "metadata": {},
     "output_type": "execute_result"
    }
   ],
   "source": [
    "remove(4, 2)"
   ]
  },
  {
   "cell_type": "code",
   "execution_count": 43,
   "id": "82566b88",
   "metadata": {},
   "outputs": [],
   "source": [
    "(add, remove) = mma()"
   ]
  },
  {
   "cell_type": "code",
   "execution_count": 44,
   "id": "e00180d6",
   "metadata": {},
   "outputs": [
    {
     "data": {
      "text/plain": [
       "2.0"
      ]
     },
     "execution_count": 44,
     "metadata": {},
     "output_type": "execute_result"
    }
   ],
   "source": [
    "add(1, 1)\n",
    "add(2, 1)\n",
    "add(3, 1)"
   ]
  },
  {
   "cell_type": "code",
   "execution_count": 45,
   "id": "433c9fd3",
   "metadata": {},
   "outputs": [
    {
     "data": {
      "text/plain": [
       "1.0"
      ]
     },
     "execution_count": 45,
     "metadata": {},
     "output_type": "execute_result"
    }
   ],
   "source": [
    "remove(3, 1)"
   ]
  },
  {
   "cell_type": "code",
   "execution_count": null,
   "id": "9338ac1a",
   "metadata": {},
   "outputs": [],
   "source": []
  }
 ],
 "metadata": {
  "kernelspec": {
   "display_name": "Python 3 (ipykernel)",
   "language": "python",
   "name": "python3"
  },
  "language_info": {
   "codemirror_mode": {
    "name": "ipython",
    "version": 3
   },
   "file_extension": ".py",
   "mimetype": "text/x-python",
   "name": "python",
   "nbconvert_exporter": "python",
   "pygments_lexer": "ipython3",
   "version": "3.9.6"
  }
 },
 "nbformat": 4,
 "nbformat_minor": 5
}
